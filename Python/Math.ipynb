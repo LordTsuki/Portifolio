{
 "cells": [
  {
   "cell_type": "code",
   "execution_count": 1,
   "metadata": {},
   "outputs": [],
   "source": [
    "import math as mt"
   ]
  },
  {
   "cell_type": "markdown",
   "metadata": {},
   "source": [
    "Aprendendo Math Library"
   ]
  },
  {
   "cell_type": "code",
   "execution_count": 2,
   "metadata": {},
   "outputs": [
    {
     "data": {
      "text/plain": [
       "7.483314773547883"
      ]
     },
     "execution_count": 2,
     "metadata": {},
     "output_type": "execute_result"
    }
   ],
   "source": [
    "y = int(input())\n",
    "x = mt.sqrt(y)\n",
    "x"
   ]
  },
  {
   "cell_type": "code",
   "execution_count": 3,
   "metadata": {},
   "outputs": [
    {
     "data": {
      "text/plain": [
       "(2, 1)"
      ]
     },
     "execution_count": 3,
     "metadata": {},
     "output_type": "execute_result"
    }
   ],
   "source": [
    "x = mt.ceil(1.4) #Arredonda pra cima\n",
    "y = mt.floor(1.4) #Arredonda pra baixo\n",
    "x, y"
   ]
  },
  {
   "cell_type": "code",
   "execution_count": 4,
   "metadata": {},
   "outputs": [
    {
     "data": {
      "text/plain": [
       "(3.141592653589793, 2.718281828459045, 6.283185307179586)"
      ]
     },
     "execution_count": 4,
     "metadata": {},
     "output_type": "execute_result"
    }
   ],
   "source": [
    "x = mt.pi #Valor de PI\n",
    "y = mt.e #Valor do número de Euler\n",
    "z = mt.tau #Valor de tau\n",
    "x, y, z"
   ]
  },
  {
   "cell_type": "code",
   "execution_count": 5,
   "metadata": {},
   "outputs": [
    {
     "ename": "ValueError",
     "evalue": "math domain error",
     "output_type": "error",
     "traceback": [
      "\u001b[0;31m---------------------------------------------------------------------------\u001b[0m",
      "\u001b[0;31mValueError\u001b[0m                                Traceback (most recent call last)",
      "Cell \u001b[0;32mIn [5], line 1\u001b[0m\n\u001b[0;32m----> 1\u001b[0m mt\u001b[38;5;241m.\u001b[39macos(x)\t\u001b[38;5;66;03m#Returns the arc cosine of a number\u001b[39;00m\n\u001b[1;32m      2\u001b[0m mt\u001b[38;5;241m.\u001b[39macosh(x)\t\u001b[38;5;66;03m#Returns the inverse hyperbolic cosine of a number\u001b[39;00m\n\u001b[1;32m      3\u001b[0m mt\u001b[38;5;241m.\u001b[39masin(x)\t\u001b[38;5;66;03m#Returns the arc sine of a number\u001b[39;00m\n",
      "\u001b[0;31mValueError\u001b[0m: math domain error"
     ]
    }
   ],
   "source": [
    "mt.acos(x)\t#Returns the arc cosine of a number\n",
    "mt.acosh(x)\t#Returns the inverse hyperbolic cosine of a number\n",
    "mt.asin(x)\t#Returns the arc sine of a number\n",
    "mt.asinh(x)\t#Returns the inverse hyperbolic sine of a number\n",
    "mt.atan(x)\t#Returns the arc tangent of a number in radians\n",
    "mt.atan2(x)\t#Returns the arc tangent of y/x in radians\n",
    "mt.atanh(x)\t#Returns the inverse hyperbolic tangent of a number\n",
    "mt.ceil(x)\t#Rounds a number up to the nearest integer\n",
    "mt.comb(x)\t#Returns the number of ways to choose k items from n items without repetition and order\n",
    "mt.copysign(x)\t#Returns a float consisting of the value of the first parameter and the sign of the second parameter\n",
    "mt.cos(x)\t#Returns the cosine of a number\n",
    "mt.cosh(x)\t#Returns the hyperbolic cosine of a number\n",
    "mt.degrees(x)\t#Converts an angle from radians to degrees\n",
    "mt.dist(x)\t#Returns the Euclidean distance between two points (p and q), where p and q are the coordinates of that point\n",
    "mt.erf(x)\t#Returns the error function of a number\n",
    "mt.erfc(x)\t#Returns the complementary error function of a number\n",
    "mt.exp(x)\t#Returns E raised to the power of x\n",
    "mt.expm1(x)\t#Returns Ex - 1\n",
    "mt.fabs(x)\t#Returns the absolute value of a number\n",
    "mt.factorial(x)\t#Returns the factorial of a number\n",
    "mt.floor(x)\t#Rounds a number down to the nearest integer\n",
    "mt.fmod(x)\t#Returns the remainder of x/y\n",
    "mt.frexp(x)\t#Returns the mantissa and the exponent, of a specified number\n",
    "mt.fsum(x)\t#Returns the sum of all items in any iterable (tuples, arrays, lists, etc.)\n",
    "mt.gamma(x)\t#Returns the gamma function at x\n",
    "mt.gcd(x)\t#Returns the greatest common divisor of two integers\n",
    "mt.hypot(x)\t#Returns the Euclidean norm\n",
    "mt.isclose(x)\t#Checks whether two values are close to each other, or not\n",
    "mt.isfinite(x)\t#Checks whether a number is finite or not\n",
    "mt.isinf(x)\t#Checks whether a number is infinite or not\n",
    "mt.isnan(x)\t#Checks whether a value is NaN (not a number) or not\n",
    "mt.isqrt(x)\t#Rounds a square root number downwards to the nearest integer\n",
    "mt.ldexp(x)\t#Returns the inverse of mt.frexp() which is x * (2**i) of the given numbers x and i\n",
    "mt.lgamma(x)\t#Returns the log gamma value of x\n",
    "mt.log(x)\t#Returns the natural logarithm of a number, or the logarithm of number to base\n",
    "mt.log10(x)\t#Returns the base-10 logarithm of x\n",
    "mt.log1p(x)\t#Returns the natural logarithm of 1+x\n",
    "mt.log2(x)\t#Returns the base-2 logarithm of x\n",
    "mt.perm(x)\t#Returns the number of ways to choose k items from n items with order and without repetition\n",
    "mt.pow(x)\t#Returns the value of x to the power of y\n",
    "mt.prod(x)\t#Returns the product of all the elements in an iterable\n",
    "mt.radians(x)\t#Converts a degree value into radians\n",
    "mt.remainder(x)\t#Returns the closest value that can make numerator completely divisible by the denominator\n",
    "mt.sin(x)\t#Returns the sine of a number\n",
    "mt.sinh(x)\t#Returns the hyperbolic sine of a number\n",
    "mt.sqrt(x)\t#Returns the square root of a number\n",
    "mt.tan(x)\t#Returns the tangent of a number\n",
    "mt.tanh(x)\t#Returns the hyperbolic tangent of a number\n",
    "mt.trunc(x)\t#Returns the truncated integer parts of a number"
   ]
  }
 ],
 "metadata": {
  "kernelspec": {
   "display_name": "Python 3.10.6 64-bit",
   "language": "python",
   "name": "python3"
  },
  "language_info": {
   "codemirror_mode": {
    "name": "ipython",
    "version": 3
   },
   "file_extension": ".py",
   "mimetype": "text/x-python",
   "name": "python",
   "nbconvert_exporter": "python",
   "pygments_lexer": "ipython3",
   "version": "3.10.6"
  },
  "orig_nbformat": 4,
  "vscode": {
   "interpreter": {
    "hash": "916dbcbb3f70747c44a77c7bcd40155683ae19c65e1c03b4aa3499c5328201f1"
   }
  }
 },
 "nbformat": 4,
 "nbformat_minor": 2
}

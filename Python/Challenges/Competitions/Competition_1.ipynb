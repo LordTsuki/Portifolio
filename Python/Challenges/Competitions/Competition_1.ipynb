{
 "metadata": {
  "language_info": {
   "codemirror_mode": {
    "name": "ipython",
    "version": 3
   },
   "file_extension": ".py",
   "mimetype": "text/x-python",
   "name": "python",
   "nbconvert_exporter": "python",
   "pygments_lexer": "ipython3",
   "version": "3.8.8"
  },
  "orig_nbformat": 2,
  "kernelspec": {
   "name": "python3",
   "display_name": "Python 3.8.8 64-bit ('base': conda)"
  },
  "interpreter": {
   "hash": "dff5493087bde6a678021bf5e7173cabfe444da53dffdf9170f4c92aadd59795"
  }
 },
 "nbformat": 4,
 "nbformat_minor": 2,
 "cells": [
  {
   "cell_type": "code",
   "execution_count": 2,
   "metadata": {},
   "outputs": [],
   "source": [
    "import pandas as pd\n",
    "import numpy as np\n",
    "\n",
    "from sklearn.metrics import confusion_matrix\n",
    "from sklearn.metrics import accuracy_score\n",
    "from sklearn.metrics import classification_report\n",
    "from sklearn.model_selection import train_test_split\n",
    "from sklearn import neighbors, datasets\n",
    "from sklearn.neighbors import KNeighborsClassifier"
   ]
  },
  {
   "cell_type": "code",
   "execution_count": 2,
   "metadata": {},
   "outputs": [
    {
     "output_type": "execute_result",
     "data": {
      "text/plain": [
       "      atributo_0  atributo_1  atributo_2  atributo_3  atributo_4  atributo_5  \\\n",
       "0       0.878510   -0.339979    0.747610    1.672983    0.722101   -1.143671   \n",
       "1       2.620065   -0.961367   -2.176780    2.677986   -0.283834    0.394112   \n",
       "2       1.554621    0.067749    0.115621    1.348756   -0.176251   -0.965872   \n",
       "3       0.776714   -0.630599   -1.142482   -0.515408   -1.610397    0.488520   \n",
       "4      -0.252178   -0.179345   -0.892991    0.876678    1.128074   -0.067798   \n",
       "...          ...         ...         ...         ...         ...         ...   \n",
       "3745   -0.134195    1.850392    1.183376   -0.818058   -0.010647    0.492784   \n",
       "3746   -1.531538   -0.698049    1.450710   -2.044691   -0.832580    0.765781   \n",
       "3747   -0.942439   -0.699658    0.246887   -1.005668   -0.348603   -0.499291   \n",
       "3748   -0.188327   -1.973328   -0.702833   -0.516521   -1.116562   -0.094244   \n",
       "3749    1.880341   -2.193227   -1.970721    2.113323   -0.583412    0.226316   \n",
       "\n",
       "      atributo_6  atributo_7  atributo_8  atributo_9  target  \n",
       "0       1.184591   -0.418009   -0.682507   -0.339979       1  \n",
       "1       1.333966    0.309138    0.371008   -0.961367       0  \n",
       "2       0.335977    0.426539    0.111519    0.067749       1  \n",
       "3      -0.715406    0.172159    1.685919   -0.630599       0  \n",
       "4       1.039079   -1.225864   -1.077252   -0.179345       1  \n",
       "...          ...         ...         ...         ...     ...  \n",
       "3745   -1.356710   -0.650315   -0.322528    1.850392       0  \n",
       "3746   -0.779748    0.658691    1.002685   -0.698049       2  \n",
       "3747   -0.144731    0.786860    0.503972   -0.699658       2  \n",
       "3748    0.331275    0.189648    1.472843   -1.973328       0  \n",
       "3749    1.677213    0.496346    0.916818   -2.193227       0  \n",
       "\n",
       "[3750 rows x 11 columns]"
      ],
      "text/html": "<div>\n<style scoped>\n    .dataframe tbody tr th:only-of-type {\n        vertical-align: middle;\n    }\n\n    .dataframe tbody tr th {\n        vertical-align: top;\n    }\n\n    .dataframe thead th {\n        text-align: right;\n    }\n</style>\n<table border=\"1\" class=\"dataframe\">\n  <thead>\n    <tr style=\"text-align: right;\">\n      <th></th>\n      <th>atributo_0</th>\n      <th>atributo_1</th>\n      <th>atributo_2</th>\n      <th>atributo_3</th>\n      <th>atributo_4</th>\n      <th>atributo_5</th>\n      <th>atributo_6</th>\n      <th>atributo_7</th>\n      <th>atributo_8</th>\n      <th>atributo_9</th>\n      <th>target</th>\n    </tr>\n  </thead>\n  <tbody>\n    <tr>\n      <th>0</th>\n      <td>0.878510</td>\n      <td>-0.339979</td>\n      <td>0.747610</td>\n      <td>1.672983</td>\n      <td>0.722101</td>\n      <td>-1.143671</td>\n      <td>1.184591</td>\n      <td>-0.418009</td>\n      <td>-0.682507</td>\n      <td>-0.339979</td>\n      <td>1</td>\n    </tr>\n    <tr>\n      <th>1</th>\n      <td>2.620065</td>\n      <td>-0.961367</td>\n      <td>-2.176780</td>\n      <td>2.677986</td>\n      <td>-0.283834</td>\n      <td>0.394112</td>\n      <td>1.333966</td>\n      <td>0.309138</td>\n      <td>0.371008</td>\n      <td>-0.961367</td>\n      <td>0</td>\n    </tr>\n    <tr>\n      <th>2</th>\n      <td>1.554621</td>\n      <td>0.067749</td>\n      <td>0.115621</td>\n      <td>1.348756</td>\n      <td>-0.176251</td>\n      <td>-0.965872</td>\n      <td>0.335977</td>\n      <td>0.426539</td>\n      <td>0.111519</td>\n      <td>0.067749</td>\n      <td>1</td>\n    </tr>\n    <tr>\n      <th>3</th>\n      <td>0.776714</td>\n      <td>-0.630599</td>\n      <td>-1.142482</td>\n      <td>-0.515408</td>\n      <td>-1.610397</td>\n      <td>0.488520</td>\n      <td>-0.715406</td>\n      <td>0.172159</td>\n      <td>1.685919</td>\n      <td>-0.630599</td>\n      <td>0</td>\n    </tr>\n    <tr>\n      <th>4</th>\n      <td>-0.252178</td>\n      <td>-0.179345</td>\n      <td>-0.892991</td>\n      <td>0.876678</td>\n      <td>1.128074</td>\n      <td>-0.067798</td>\n      <td>1.039079</td>\n      <td>-1.225864</td>\n      <td>-1.077252</td>\n      <td>-0.179345</td>\n      <td>1</td>\n    </tr>\n    <tr>\n      <th>...</th>\n      <td>...</td>\n      <td>...</td>\n      <td>...</td>\n      <td>...</td>\n      <td>...</td>\n      <td>...</td>\n      <td>...</td>\n      <td>...</td>\n      <td>...</td>\n      <td>...</td>\n      <td>...</td>\n    </tr>\n    <tr>\n      <th>3745</th>\n      <td>-0.134195</td>\n      <td>1.850392</td>\n      <td>1.183376</td>\n      <td>-0.818058</td>\n      <td>-0.010647</td>\n      <td>0.492784</td>\n      <td>-1.356710</td>\n      <td>-0.650315</td>\n      <td>-0.322528</td>\n      <td>1.850392</td>\n      <td>0</td>\n    </tr>\n    <tr>\n      <th>3746</th>\n      <td>-1.531538</td>\n      <td>-0.698049</td>\n      <td>1.450710</td>\n      <td>-2.044691</td>\n      <td>-0.832580</td>\n      <td>0.765781</td>\n      <td>-0.779748</td>\n      <td>0.658691</td>\n      <td>1.002685</td>\n      <td>-0.698049</td>\n      <td>2</td>\n    </tr>\n    <tr>\n      <th>3747</th>\n      <td>-0.942439</td>\n      <td>-0.699658</td>\n      <td>0.246887</td>\n      <td>-1.005668</td>\n      <td>-0.348603</td>\n      <td>-0.499291</td>\n      <td>-0.144731</td>\n      <td>0.786860</td>\n      <td>0.503972</td>\n      <td>-0.699658</td>\n      <td>2</td>\n    </tr>\n    <tr>\n      <th>3748</th>\n      <td>-0.188327</td>\n      <td>-1.973328</td>\n      <td>-0.702833</td>\n      <td>-0.516521</td>\n      <td>-1.116562</td>\n      <td>-0.094244</td>\n      <td>0.331275</td>\n      <td>0.189648</td>\n      <td>1.472843</td>\n      <td>-1.973328</td>\n      <td>0</td>\n    </tr>\n    <tr>\n      <th>3749</th>\n      <td>1.880341</td>\n      <td>-2.193227</td>\n      <td>-1.970721</td>\n      <td>2.113323</td>\n      <td>-0.583412</td>\n      <td>0.226316</td>\n      <td>1.677213</td>\n      <td>0.496346</td>\n      <td>0.916818</td>\n      <td>-2.193227</td>\n      <td>0</td>\n    </tr>\n  </tbody>\n</table>\n<p>3750 rows × 11 columns</p>\n</div>"
     },
     "metadata": {},
     "execution_count": 2
    }
   ],
   "source": [
    "train = pd.read_csv('train.csv', sep=',')\n",
    "\n",
    "train"
   ]
  },
  {
   "cell_type": "code",
   "execution_count": 48,
   "metadata": {},
   "outputs": [],
   "source": [
    "X = train.drop(columns=['target'])\n",
    "y = train.target\n",
    "\n",
    "# 30% teste, então sobra 70% para treino\n",
    "X_train, X_test, y_train, y_test = train_test_split(X, y, test_size=0.3,\n",
    "                                                    random_state=2027)"
   ]
  },
  {
   "cell_type": "code",
   "execution_count": 49,
   "metadata": {},
   "outputs": [
    {
     "output_type": "stream",
     "name": "stdout",
     "text": [
      "(2625, 10)\n(1125, 10)\n(2625,)\n(1125,)\n"
     ]
    }
   ],
   "source": [
    "print(X_train.shape)\n",
    "print(X_test.shape)\n",
    "print(y_train.shape)\n",
    "print(y_test.shape)"
   ]
  },
  {
   "source": [
    "model = KNeighborsClassifier()\n",
    "model.fit(X_train, y_train)\n",
    "\n",
    "y_pred = model.predict(X_test)"
   ],
   "cell_type": "code",
   "metadata": {},
   "execution_count": 50,
   "outputs": []
  },
  {
   "source": [
    "accuracy_score(y_test, y_pred)"
   ],
   "cell_type": "code",
   "metadata": {},
   "execution_count": 51,
   "outputs": [
    {
     "output_type": "execute_result",
     "data": {
      "text/plain": [
       "0.8266666666666667"
      ]
     },
     "metadata": {},
     "execution_count": 51
    }
   ]
  },
  {
   "source": [
    "y_test[:10]"
   ],
   "cell_type": "code",
   "metadata": {},
   "execution_count": 7,
   "outputs": [
    {
     "output_type": "execute_result",
     "data": {
      "text/plain": [
       "1457    0\n",
       "1054    2\n",
       "1097    2\n",
       "1131    0\n",
       "2628    2\n",
       "3400    0\n",
       "3317    1\n",
       "2268    2\n",
       "3093    0\n",
       "693     1\n",
       "Name: target, dtype: int64"
      ]
     },
     "metadata": {},
     "execution_count": 7
    }
   ]
  },
  {
   "source": [
    "y_pred[:10]"
   ],
   "cell_type": "code",
   "metadata": {},
   "execution_count": 8,
   "outputs": [
    {
     "output_type": "execute_result",
     "data": {
      "text/plain": [
       "array([0, 2, 2, 0, 2, 0, 1, 2, 0, 1], dtype=int64)"
      ]
     },
     "metadata": {},
     "execution_count": 8
    }
   ]
  },
  {
   "source": [
    "confusion_matrix(y_test, y_pred)"
   ],
   "cell_type": "code",
   "metadata": {},
   "execution_count": 9,
   "outputs": [
    {
     "output_type": "execute_result",
     "data": {
      "text/plain": [
       "array([[273,  42,  36],\n",
       "       [ 45, 310,  19],\n",
       "       [ 23,  30, 347]], dtype=int64)"
      ]
     },
     "metadata": {},
     "execution_count": 9
    }
   ]
  },
  {
   "source": [
    "print(classification_report(y_test, y_pred))"
   ],
   "cell_type": "code",
   "metadata": {},
   "execution_count": 10,
   "outputs": [
    {
     "output_type": "stream",
     "name": "stdout",
     "text": [
      "              precision    recall  f1-score   support\n\n           0       0.80      0.78      0.79       351\n           1       0.81      0.83      0.82       374\n           2       0.86      0.87      0.87       400\n\n    accuracy                           0.83      1125\n   macro avg       0.83      0.82      0.82      1125\nweighted avg       0.83      0.83      0.83      1125\n\n"
     ]
    }
   ]
  },
  {
   "source": [
    "acuracias = []\n",
    "melhor_acc = None\n",
    "melhor_model = None\n",
    "\n",
    "for k in range(1,51):\n",
    "\n",
    "    model = KNeighborsClassifier(n_neighbors = k)\n",
    "    model.fit(X_train, y_train)\n",
    "\n",
    "    y_pred = model.predict(X_test)\n",
    "\n",
    "    acuracias.append(accuracy_score(y_test, y_pred))\n",
    "\n",
    "    acc = (y_pred == y_test).sum() / len(y_pred) * 100\n",
    "    print('K:', k, \"-\", acc)\n",
    "\n",
    "    if melhor_acc is None or melhor_acc < acc:\n",
    "            melhor_modelo = model\n",
    "            melhor_acc = acc\n",
    "    \n",
    "\n",
    "print('Melhor modelo: ', melhor_modelo)\n",
    "print('Melhor acurácia obtida: ', melhor_acc)\n",
    "\n",
    "print(np.argsort(acuracias))"
   ],
   "cell_type": "code",
   "metadata": {},
   "execution_count": 11,
   "outputs": [
    {
     "output_type": "stream",
     "name": "stdout",
     "text": [
      "K: 1 - 77.24444444444445\n",
      "K: 2 - 75.2\n",
      "K: 3 - 81.24444444444444\n",
      "K: 4 - 80.80000000000001\n",
      "K: 5 - 82.66666666666667\n",
      "K: 6 - 82.57777777777778\n",
      "K: 7 - 83.91111111111111\n",
      "K: 8 - 83.55555555555556\n",
      "K: 9 - 83.55555555555556\n",
      "K: 10 - 83.64444444444445\n",
      "K: 11 - 83.28888888888889\n",
      "K: 12 - 84.08888888888889\n",
      "K: 13 - 83.64444444444445\n",
      "K: 14 - 83.28888888888889\n",
      "K: 15 - 83.64444444444445\n",
      "K: 16 - 83.37777777777777\n",
      "K: 17 - 84.35555555555555\n",
      "K: 18 - 84.35555555555555\n",
      "K: 19 - 84.08888888888889\n",
      "K: 20 - 84.35555555555555\n",
      "K: 21 - 84.08888888888889\n",
      "K: 22 - 84.17777777777778\n",
      "K: 23 - 83.55555555555556\n",
      "K: 24 - 83.28888888888889\n",
      "K: 25 - 83.37777777777777\n",
      "K: 26 - 83.55555555555556\n",
      "K: 27 - 83.02222222222223\n",
      "K: 28 - 83.02222222222223\n",
      "K: 29 - 83.2\n",
      "K: 30 - 83.73333333333333\n",
      "K: 31 - 83.28888888888889\n",
      "K: 32 - 83.64444444444445\n",
      "K: 33 - 83.64444444444445\n",
      "K: 34 - 83.37777777777777\n",
      "K: 35 - 83.02222222222223\n",
      "K: 36 - 83.11111111111111\n",
      "K: 37 - 82.75555555555556\n",
      "K: 38 - 82.84444444444445\n",
      "K: 39 - 82.57777777777778\n",
      "K: 40 - 82.84444444444445\n",
      "K: 41 - 82.75555555555556\n",
      "K: 42 - 83.11111111111111\n",
      "K: 43 - 82.84444444444445\n",
      "K: 44 - 82.4888888888889\n",
      "K: 45 - 83.11111111111111\n",
      "K: 46 - 83.2\n",
      "K: 47 - 83.2\n",
      "K: 48 - 83.37777777777777\n",
      "K: 49 - 83.2\n",
      "K: 50 - 83.02222222222223\n",
      "Melhor modelo:  KNeighborsClassifier(n_neighbors=17)\n",
      "Melhor acurácia obtida:  84.35555555555555\n",
      "[ 1  0  3  2 43  5 38  4 40 36 42 39 37 34 27 26 49 44 41 35 46 45 48 28\n",
      " 23 10 13 30 33 47 24 15  8  7 22 25  9 31 12 14 32 29  6 20 18 11 21 16\n",
      " 19 17]\n"
     ]
    }
   ]
  },
  {
   "source": [
    "model = KNeighborsClassifier(n_neighbors = 17)\n",
    "model.fit(X_train, y_train)\n",
    "y_pred = model.predict(X_test)\n",
    "print(classification_report(y_test, y_pred))"
   ],
   "cell_type": "code",
   "metadata": {},
   "execution_count": 12,
   "outputs": [
    {
     "output_type": "stream",
     "name": "stdout",
     "text": [
      "              precision    recall  f1-score   support\n\n           0       0.85      0.76      0.80       351\n           1       0.81      0.87      0.84       374\n           2       0.87      0.90      0.88       400\n\n    accuracy                           0.84      1125\n   macro avg       0.84      0.84      0.84      1125\nweighted avg       0.84      0.84      0.84      1125\n\n"
     ]
    }
   ]
  },
  {
   "cell_type": "code",
   "execution_count": 13,
   "metadata": {},
   "outputs": [],
   "source": [
    "test = pd.read_csv('test.csv', sep=',')"
   ]
  },
  {
   "cell_type": "code",
   "execution_count": 14,
   "metadata": {},
   "outputs": [
    {
     "output_type": "execute_result",
     "data": {
      "text/plain": [
       "      atributo_0  atributo_1  atributo_2  atributo_3  atributo_4  atributo_5  \\\n",
       "0      -1.408643   -0.476562    0.816260   -2.458167   -1.315676    0.398213   \n",
       "1       1.017182   -0.016606   -0.265229    2.639312    1.729068    1.441399   \n",
       "2       0.189377    0.806710    0.938611    0.128497    0.250247   -0.893069   \n",
       "3       2.946274   -1.826070   -0.065529    3.494402   -0.094652   -0.568539   \n",
       "4       3.092419    1.310499    0.305403    4.121248    1.634940   -1.941418   \n",
       "...          ...         ...         ...         ...         ...         ...   \n",
       "1245    2.105687    1.980593    1.031130    2.593642    1.309430    0.875990   \n",
       "1246   -0.378148   -0.459772   -1.724344    0.475134    0.724931    0.095055   \n",
       "1247    0.715393    1.787161    0.058040    0.040501   -0.016701    0.205078   \n",
       "1248   -0.486339   -0.488513   -0.315706    0.518770    0.874079    0.093310   \n",
       "1249    0.065119   -1.697777    1.457102   -0.720772   -1.493655   -1.123901   \n",
       "\n",
       "      atributo_6  atributo_7  atributo_8  atributo_9  \n",
       "0      -1.321257   -0.463573    1.437143   -0.476562  \n",
       "1       1.898629   -0.614529   -1.744176   -0.016606  \n",
       "2      -0.279304   -0.496363   -0.401376    0.806710  \n",
       "3       2.222872   -0.287359    0.330516   -1.826070  \n",
       "4       1.603051   -1.609502   -1.960764    1.310499  \n",
       "...          ...         ...         ...         ...  \n",
       "1245    0.500608    0.468358   -1.728045    1.980593  \n",
       "1246    0.834857    0.288165   -0.622373   -0.459772  \n",
       "1247   -1.022564    0.310183   -0.332775    1.787161  \n",
       "1248    0.949778   -0.486695   -0.761437   -0.488513  \n",
       "1249   -0.108869   -0.621159    1.788096   -1.697777  \n",
       "\n",
       "[1250 rows x 10 columns]"
      ],
      "text/html": "<div>\n<style scoped>\n    .dataframe tbody tr th:only-of-type {\n        vertical-align: middle;\n    }\n\n    .dataframe tbody tr th {\n        vertical-align: top;\n    }\n\n    .dataframe thead th {\n        text-align: right;\n    }\n</style>\n<table border=\"1\" class=\"dataframe\">\n  <thead>\n    <tr style=\"text-align: right;\">\n      <th></th>\n      <th>atributo_0</th>\n      <th>atributo_1</th>\n      <th>atributo_2</th>\n      <th>atributo_3</th>\n      <th>atributo_4</th>\n      <th>atributo_5</th>\n      <th>atributo_6</th>\n      <th>atributo_7</th>\n      <th>atributo_8</th>\n      <th>atributo_9</th>\n    </tr>\n  </thead>\n  <tbody>\n    <tr>\n      <th>0</th>\n      <td>-1.408643</td>\n      <td>-0.476562</td>\n      <td>0.816260</td>\n      <td>-2.458167</td>\n      <td>-1.315676</td>\n      <td>0.398213</td>\n      <td>-1.321257</td>\n      <td>-0.463573</td>\n      <td>1.437143</td>\n      <td>-0.476562</td>\n    </tr>\n    <tr>\n      <th>1</th>\n      <td>1.017182</td>\n      <td>-0.016606</td>\n      <td>-0.265229</td>\n      <td>2.639312</td>\n      <td>1.729068</td>\n      <td>1.441399</td>\n      <td>1.898629</td>\n      <td>-0.614529</td>\n      <td>-1.744176</td>\n      <td>-0.016606</td>\n    </tr>\n    <tr>\n      <th>2</th>\n      <td>0.189377</td>\n      <td>0.806710</td>\n      <td>0.938611</td>\n      <td>0.128497</td>\n      <td>0.250247</td>\n      <td>-0.893069</td>\n      <td>-0.279304</td>\n      <td>-0.496363</td>\n      <td>-0.401376</td>\n      <td>0.806710</td>\n    </tr>\n    <tr>\n      <th>3</th>\n      <td>2.946274</td>\n      <td>-1.826070</td>\n      <td>-0.065529</td>\n      <td>3.494402</td>\n      <td>-0.094652</td>\n      <td>-0.568539</td>\n      <td>2.222872</td>\n      <td>-0.287359</td>\n      <td>0.330516</td>\n      <td>-1.826070</td>\n    </tr>\n    <tr>\n      <th>4</th>\n      <td>3.092419</td>\n      <td>1.310499</td>\n      <td>0.305403</td>\n      <td>4.121248</td>\n      <td>1.634940</td>\n      <td>-1.941418</td>\n      <td>1.603051</td>\n      <td>-1.609502</td>\n      <td>-1.960764</td>\n      <td>1.310499</td>\n    </tr>\n    <tr>\n      <th>...</th>\n      <td>...</td>\n      <td>...</td>\n      <td>...</td>\n      <td>...</td>\n      <td>...</td>\n      <td>...</td>\n      <td>...</td>\n      <td>...</td>\n      <td>...</td>\n      <td>...</td>\n    </tr>\n    <tr>\n      <th>1245</th>\n      <td>2.105687</td>\n      <td>1.980593</td>\n      <td>1.031130</td>\n      <td>2.593642</td>\n      <td>1.309430</td>\n      <td>0.875990</td>\n      <td>0.500608</td>\n      <td>0.468358</td>\n      <td>-1.728045</td>\n      <td>1.980593</td>\n    </tr>\n    <tr>\n      <th>1246</th>\n      <td>-0.378148</td>\n      <td>-0.459772</td>\n      <td>-1.724344</td>\n      <td>0.475134</td>\n      <td>0.724931</td>\n      <td>0.095055</td>\n      <td>0.834857</td>\n      <td>0.288165</td>\n      <td>-0.622373</td>\n      <td>-0.459772</td>\n    </tr>\n    <tr>\n      <th>1247</th>\n      <td>0.715393</td>\n      <td>1.787161</td>\n      <td>0.058040</td>\n      <td>0.040501</td>\n      <td>-0.016701</td>\n      <td>0.205078</td>\n      <td>-1.022564</td>\n      <td>0.310183</td>\n      <td>-0.332775</td>\n      <td>1.787161</td>\n    </tr>\n    <tr>\n      <th>1248</th>\n      <td>-0.486339</td>\n      <td>-0.488513</td>\n      <td>-0.315706</td>\n      <td>0.518770</td>\n      <td>0.874079</td>\n      <td>0.093310</td>\n      <td>0.949778</td>\n      <td>-0.486695</td>\n      <td>-0.761437</td>\n      <td>-0.488513</td>\n    </tr>\n    <tr>\n      <th>1249</th>\n      <td>0.065119</td>\n      <td>-1.697777</td>\n      <td>1.457102</td>\n      <td>-0.720772</td>\n      <td>-1.493655</td>\n      <td>-1.123901</td>\n      <td>-0.108869</td>\n      <td>-0.621159</td>\n      <td>1.788096</td>\n      <td>-1.697777</td>\n    </tr>\n  </tbody>\n</table>\n<p>1250 rows × 10 columns</p>\n</div>"
     },
     "metadata": {},
     "execution_count": 14
    }
   ],
   "source": [
    "test"
   ]
  },
  {
   "cell_type": "code",
   "execution_count": 28,
   "metadata": {},
   "outputs": [],
   "source": [
    "Xt = test\n",
    "yt = test\n",
    "\n",
    "Xt_test = test\n",
    "yt_test = test"
   ]
  },
  {
   "cell_type": "code",
   "execution_count": 26,
   "metadata": {},
   "outputs": [
    {
     "output_type": "stream",
     "name": "stdout",
     "text": [
      "(1250, 10)\n"
     ]
    }
   ],
   "source": [
    "print(Xt_test.shape)"
   ]
  },
  {
   "cell_type": "code",
   "execution_count": 37,
   "metadata": {},
   "outputs": [],
   "source": [
    "model = KNeighborsClassifier(n_neighbors = 17)\n",
    "model.fit(X_train, y_train)\n",
    "yt_pred = model.predict(Xt_test)"
   ]
  },
  {
   "cell_type": "code",
   "execution_count": 38,
   "metadata": {},
   "outputs": [],
   "source": [
    "submission = pd.read_csv('submission (1).csv', sep=',')"
   ]
  },
  {
   "cell_type": "code",
   "execution_count": 44,
   "metadata": {},
   "outputs": [],
   "source": [
    "submission['Predicted'] = yt_pred"
   ]
  },
  {
   "cell_type": "code",
   "execution_count": 45,
   "metadata": {},
   "outputs": [],
   "source": [
    "submission.to_csv('Submission.csv')"
   ]
  },
  {
   "cell_type": "code",
   "execution_count": 47,
   "metadata": {},
   "outputs": [],
   "source": [
    "pd.read_csv('Submission.csv', sep=',')\\\n",
    "    .drop(columns=['Lane'])\\\n",
    "    .to_csv('Submission1.csv', sep=',', index=False)"
   ]
  },
  {
   "cell_type": "code",
   "execution_count": null,
   "metadata": {},
   "outputs": [],
   "source": []
  }
 ]
}